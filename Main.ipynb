{
 "cells": [
  {
   "cell_type": "code",
   "execution_count": 59,
   "metadata": {},
   "outputs": [],
   "source": [
    "import cv2\n",
    "import numpy as np\n",
    "import mediapipe as mp\n",
    "import os\n",
    "import pandas as pd"
   ]
  },
  {
   "cell_type": "code",
   "execution_count": 60,
   "metadata": {},
   "outputs": [],
   "source": [
    "MP_Pose = mp.solutions.pose\n",
    "Pose = MP_Pose.Pose(min_detection_confidence=0.7, min_tracking_confidence=0.7 )\n",
    "\n",
    "Drawing = mp.solutions.drawing_utils\n",
    "Drawing_Spec_Landmarks = mp.solutions.drawing_utils.DrawingSpec(thickness=2, circle_radius=8, color=(255, 0, 127))\n",
    "Drawing_Spec_Connections = mp.solutions.drawing_utils.DrawingSpec(thickness=4, color=(0, 0, 102))\n",
    "#Drawing_Spec = Drawing.DrawingSpec(thickness=2, circle_radius=4, color=(0,255,127)) "
   ]
  },
  {
   "cell_type": "markdown",
   "metadata": {},
   "source": [
    "## Angle Calculation"
   ]
  },
  {
   "cell_type": "code",
   "execution_count": 61,
   "metadata": {},
   "outputs": [],
   "source": [
    "def Calculate_Angle(Point_1, Point_2, Point_3):\n",
    "    Point_1 = np.array(Point_1) \n",
    "    Point_2 = np.array(Point_2)\n",
    "    Point_3 = np.array(Point_3) \n",
    "    \n",
    "    radians = np.arctan2(Point_3[1]-Point_2[1], Point_3[0]-Point_2[0]) - np.arctan2(Point_1[1]-Point_2[1], Point_1[0]-Point_2[0])\n",
    "    angle = np.abs(radians*180.0/np.pi)\n",
    "    \n",
    "    if angle >180.0:\n",
    "        angle = 360-angle\n",
    "        \n",
    "    return angle \n"
   ]
  },
  {
   "cell_type": "markdown",
   "metadata": {},
   "source": [
    "## Main Angles Definition"
   ]
  },
  {
   "cell_type": "code",
   "execution_count": 62,
   "metadata": {},
   "outputs": [],
   "source": [
    "Main_Angles = {\n",
    "    \n",
    "    \"L_Neck\"     : [0,11,12,0]  , \n",
    "    \"R_Neck\"     : [0,12,11,1]  , \n",
    "    \"L_Shoulder\" : [13,11,23,2] , \n",
    "    \"R_Shoulder\" : [14,12,24,3] , \n",
    "    \"L_Elbow\"    : [11,13,15,4] , \n",
    "    \"R_Elbow\"    : [12,14,16,5] ,\n",
    "    \"L_Wrist\"    : [13,15,19,6] , \n",
    "    \"R_Wrist\"    : [14,16,20,7] ,\n",
    "    \"L_Hip\"      : [11,23,25,8] , \n",
    "    \"R_Hip\"      : [12,24,26,9] ,\n",
    "    \"L_Knee\"     : [23,25,27,10] ,\n",
    "    \"R_Knee\"     : [24,26,28,11] ,\n",
    "    \"L_Ankle\"    : [25,27,31,12] ,\n",
    "    \"R_Ankle\"    : [26,28,32,13] \n",
    "}\n"
   ]
  },
  {
   "cell_type": "markdown",
   "metadata": {},
   "source": [
    "![Body Landmarks ](Assets//Body_LandMarks.png)"
   ]
  },
  {
   "cell_type": "markdown",
   "metadata": {},
   "source": [
    "## Draw Angles "
   ]
  },
  {
   "cell_type": "code",
   "execution_count": 63,
   "metadata": {},
   "outputs": [],
   "source": [
    "def Draw_Angles( Counter , image , L_Marks ) :\n",
    "    \n",
    "    height, width, _ = image.shape\n",
    "    for Key, Val in Main_Angles.items():\n",
    "        \n",
    "        Angle = int(Calculate_Angle([L_Marks[Val[0]].x, L_Marks[Val[0]].y],\n",
    "                                    [L_Marks[Val[1]].x, L_Marks[Val[1]].y],\n",
    "                                    [L_Marks[Val[2]].x, L_Marks[Val[2]].y]))\n",
    "        \n",
    "        txt = tuple(np.multiply([L_Marks[Val[1]].x, L_Marks[Val[1]].y],\n",
    "                                [width,height if (Key != \"L_Neck\" and Key != \"R_Neck\") else height -60]).astype(int))\n",
    "\n",
    "        font = cv2.FONT_HERSHEY_SIMPLEX\n",
    "        font_scale = 0.7\n",
    "        font_thickness = 2\n",
    "        text_color = (209, 196, 233) \n",
    "\n",
    "        text_size, _ = cv2.getTextSize(str(Angle), cv2.FONT_HERSHEY_SIMPLEX, font_scale, font_thickness)\n",
    "        cv2.rectangle(image, txt, (txt[0] + text_size[0], txt[1] - text_size[1]),(0, 0, 102), cv2.FILLED)\n",
    "\n",
    "        cv2.putText(image, str(Angle), txt, font, font_scale, text_color, font_thickness, cv2.LINE_AA)\n",
    "\n",
    "    return image\n"
   ]
  },
  {
   "cell_type": "markdown",
   "metadata": {},
   "source": [
    "## Draw Transitions"
   ]
  },
  {
   "cell_type": "code",
   "execution_count": 64,
   "metadata": {},
   "outputs": [],
   "source": [
    "def draw_filled_circle(image, center, color, fill_percentage):\n",
    "    \n",
    "    # Calculate the fill color based on the fill percentage\n",
    "    fill_color = tuple(int(c * fill_percentage) for c in color)\n",
    "\n",
    "    # Draw the outer circle\n",
    "    outer_radius = 20\n",
    "    cv2.circle(image, center, outer_radius, (255, 0, 127), thickness=3)\n",
    "\n",
    "    # Draw the inner expanding circle\n",
    "    inner_radius = int(outer_radius * fill_percentage)\n",
    "    cv2.circle(image, center, inner_radius, fill_color, thickness= -1 )"
   ]
  },
  {
   "cell_type": "markdown",
   "metadata": {},
   "source": [
    "## Comparsion"
   ]
  },
  {
   "cell_type": "code",
   "execution_count": 66,
   "metadata": {},
   "outputs": [],
   "source": [
    "tolerance_deg = 10\n",
    "Counter = 0\n",
    "Msg =\"\"\n",
    "Num_Of_Pose_Completed = 0\n",
    "Exercise_Name = \"Trial\"\n",
    "\n",
    "target_angles_list = ['L_Shoulder', 'L_Elbow', 'L_Wrist']\n",
    "pose_angles_list = [[56, 53, 170, 20, 170, 170, 170, 170, 180, 180, 170, 170, 90, 90],\n",
    "                    [56, 53, 90, 20, 170, 170, 170, 170, 180, 180, 170, 170, 90, 90],\n",
    "                    [56, 53, 90, 20, 90, 170, 170, 170, 180, 180, 170, 170, 90, 90]]\n",
    "\n",
    "\n",
    "cap = cv2.VideoCapture(0)\n",
    "\n",
    "while cap.isOpened():\n",
    "\n",
    "    ret, frame = cap.read()\n",
    "    image = cv2.cvtColor(frame, cv2.COLOR_BGR2RGB)\n",
    "    height, width, _ = image.shape\n",
    "    # Process the image using the mediapipe pose model\n",
    "    results = Pose.process(image)\n",
    "\n",
    "    # Check if pose landmarks are present\n",
    "    if results.pose_landmarks:\n",
    "        L_Marks = results.pose_landmarks.landmark\n",
    "\n",
    "        Drawing.draw_landmarks(\n",
    "            image,\n",
    "            results.pose_landmarks,\n",
    "            MP_Pose.POSE_CONNECTIONS,\n",
    "            landmark_drawing_spec=Drawing_Spec_Landmarks,\n",
    "            connection_drawing_spec=Drawing_Spec_Connections\n",
    "        )\n",
    "        \n",
    "\n",
    "        # RT(Real Time) Angles list will hold angle for current frame\n",
    "        RT_Angles = []\n",
    "        # Correct Angles list will hold pose angles with which we want to compare our camera feedback\n",
    "        Correct_Angles = []\n",
    "\n",
    "        # Iterate through the list of target angles (angles of interest for each exercise)\n",
    "        for angle_name in target_angles_list:\n",
    "\n",
    "            # Val will hold the angle definition (i.e. Key - Value pair in Main_Angles dictionary)\n",
    "            Val = Main_Angles[angle_name]\n",
    "            # Calculate the angle and add it to RT_Angles\n",
    "            rt_angle = Calculate_Angle([L_Marks[Val[0]].x, L_Marks[Val[0]].y],\n",
    "                                        [L_Marks[Val[1]].x, L_Marks[Val[1]].y],\n",
    "                                        [L_Marks[Val[2]].x, L_Marks[Val[2]].y])\n",
    "            RT_Angles.append(rt_angle)\n",
    "\n",
    "            correct_angle = pose_angles_list[Num_Of_Pose_Completed][Val[3]]\n",
    "            Correct_Angles.append(correct_angle)\n",
    "\n",
    "\n",
    "            # Calculate the fill percentage based on the similarity of the current angle to the target angle\n",
    "            fill_percentage = 1.0 - (abs(rt_angle - correct_angle) / tolerance_deg)\n",
    "            fill_percentage = max(0, min(1, fill_percentage))  # Ensure fill_percentage is in the range [0, 1]\n",
    "\n",
    "            # Draw a filled circle to visualize the similarity\n",
    "            center = tuple(np.multiply([L_Marks[Val[1]].x, L_Marks[Val[1]].y], [width, height]).astype(int))\n",
    "            draw_filled_circle(image, center, (255, 0, 127), fill_percentage)\n",
    "\n",
    "\n",
    "       \n",
    "        #image = Draw_Angles(Counter, image, L_Marks, RT_Angles, Correct_Angles, tolerance_deg)\n",
    "        Angle_Match = 0\n",
    "\n",
    "        # Iterate through RT_Angles and Correct_Angles to tell how many angles are matched within a defined range (i.e. tolerance)\n",
    "        for rt_angle, correct_angle in zip(RT_Angles, Correct_Angles):\n",
    "            if abs(rt_angle - correct_angle) <= tolerance_deg:\n",
    "                Angle_Match += 1\n",
    "\n",
    "        # If all angles are matched , indicate that 1 pose is done . \n",
    "        if Angle_Match == len(RT_Angles):\n",
    "            Angle_Match = 0\n",
    "            Num_Of_Pose_Completed += 1\n",
    "\n",
    "            # If all poses are done , increase exercise counter and start over.\n",
    "            if Num_Of_Pose_Completed == len(pose_angles_list):\n",
    "                Counter += 1\n",
    "                Num_Of_Pose_Completed = 0\n",
    "                Msg = f\"{Counter} Times Elapsed.\"\n",
    "            # Else , move to the next pose \n",
    "            else :\n",
    "                Msg = f\"Moving to Pose number {Num_Of_Pose_Completed + 1}.\"\n",
    "\n",
    "        \n",
    "        cv2.putText(image, Msg, (100,70), cv2.FONT_HERSHEY_SIMPLEX, 0.8, (255, 0, 127), 2, cv2.LINE_AA)\n",
    "\n",
    "        cv2.putText(image, str(Counter), (100,100), cv2.FONT_HERSHEY_SIMPLEX, 0.8, (255, 0, 127), 2, cv2.LINE_AA)\n",
    "        image = cv2.cvtColor(image, cv2.COLOR_RGB2BGR)\n",
    "\n",
    "        cv2.imshow('Phlex', image)\n",
    "\n",
    "        if cv2.waitKey(1) & 0xFF == ord('q'):\n",
    "            break\n",
    "\n",
    "cap.release()\n",
    "cv2.destroyAllWindows()\n"
   ]
  }
 ],
 "metadata": {
  "kernelspec": {
   "display_name": "catto",
   "language": "python",
   "name": "python3"
  },
  "language_info": {
   "codemirror_mode": {
    "name": "ipython",
    "version": 3
   },
   "file_extension": ".py",
   "mimetype": "text/x-python",
   "name": "python",
   "nbconvert_exporter": "python",
   "pygments_lexer": "ipython3",
   "version": "3.11.3"
  }
 },
 "nbformat": 4,
 "nbformat_minor": 2
}

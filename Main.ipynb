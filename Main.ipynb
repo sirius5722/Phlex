{
 "cells": [
  {
   "cell_type": "code",
   "execution_count": 3,
   "metadata": {},
   "outputs": [],
   "source": [
    "import cv2\n",
    "import numpy as np\n",
    "import mediapipe as mp\n",
    "import os\n",
    "import pandas as pd"
   ]
  },
  {
   "cell_type": "code",
   "execution_count": 4,
   "metadata": {},
   "outputs": [],
   "source": [
    "MP_Pose = mp.solutions.pose\n",
    "Pose = MP_Pose.Pose(min_detection_confidence=0.7, min_tracking_confidence=0.7 )\n",
    "\n",
    "Drawing = mp.solutions.drawing_utils\n",
    "Drawing_Spec = Drawing.DrawingSpec(thickness=2, circle_radius=4, color=(0,255,127)) "
   ]
  },
  {
   "cell_type": "markdown",
   "metadata": {},
   "source": [
    "## Angle Calculation"
   ]
  },
  {
   "cell_type": "code",
   "execution_count": 5,
   "metadata": {},
   "outputs": [],
   "source": [
    "def Calculate_Angle(Point_1, Point_2, Point_3):\n",
    "    Point_1 = np.array(Point_1) \n",
    "    Point_2 = np.array(Point_2)\n",
    "    Point_3 = np.array(Point_3) \n",
    "    \n",
    "    radians = np.arctan2(Point_3[1]-Point_2[1], Point_3[0]-Point_2[0]) - np.arctan2(Point_1[1]-Point_2[1], Point_1[0]-Point_2[0])\n",
    "    angle = np.abs(radians*180.0/np.pi)\n",
    "    \n",
    "    if angle >180.0:\n",
    "        angle = 360-angle\n",
    "        \n",
    "    return angle "
   ]
  },
  {
   "cell_type": "markdown",
   "metadata": {},
   "source": [
    "## Main Angles Definition"
   ]
  },
  {
   "cell_type": "code",
   "execution_count": 6,
   "metadata": {},
   "outputs": [],
   "source": [
    "Main_Angles = {\n",
    "    \n",
    "    \"Neck\"       : [0,11,12]  , \n",
    "    \"L_Shoulder\" : [13,11,23] , \n",
    "    \"R_Shoulder\" : [14,12,24] , \n",
    "    \"L_Elbow\"    : [11,13,15] , \n",
    "    \"R_Elbow\"    : [12,14,16] ,\n",
    "    \"L_Wrist\"    : [13,15,19] , \n",
    "    \"R_Wrist\"    : [14,16,20] ,\n",
    "    \"L_Hip\"      : [11,23,25] , \n",
    "    \"R_Hip\"      : [12,24,26] ,\n",
    "    \"L_Knee\"     : [23,25,27] ,\n",
    "    \"R_Knee\"     : [24,26,28] ,\n",
    "    \"L_Ankle\"    : [25,27,31] ,\n",
    "    \"R_Ankle\"    : [26,28,32] , \n",
    "}"
   ]
  },
  {
   "cell_type": "markdown",
   "metadata": {},
   "source": [
    "![Body Landmarks ](Assets//Body_LandMarks.png)"
   ]
  },
  {
   "cell_type": "markdown",
   "metadata": {},
   "source": [
    "## Draw Angles "
   ]
  },
  {
   "cell_type": "code",
   "execution_count": 7,
   "metadata": {},
   "outputs": [],
   "source": [
    "def Draw_Angles( image , L_Marks ) :\n",
    "\n",
    "    height, width, _ = image.shape\n",
    "    for Key, Val in Main_Angles.items():\n",
    "        \n",
    "        Angle = int(Calculate_Angle([L_Marks[Val[0]].x, L_Marks[Val[0]].y],\n",
    "                                    [L_Marks[Val[1]].x, L_Marks[Val[1]].y],\n",
    "                                    [L_Marks[Val[2]].x, L_Marks[Val[2]].y]))\n",
    "#        if Key == \"Neck\" :\n",
    "        txt = tuple(np.multiply([L_Marks[Val[1]].x, L_Marks[Val[1]].y],[width,height]).astype(int))\n",
    "\n",
    "        font = cv2.FONT_HERSHEY_SIMPLEX\n",
    "        font_scale = 0.7\n",
    "        font_thickness = 2\n",
    "        text_color = (209, 196, 233) \n",
    "\n",
    "        text_size, _ = cv2.getTextSize(str(Angle), cv2.FONT_HERSHEY_SIMPLEX, font_scale, font_thickness)\n",
    "        cv2.rectangle(image, txt, (txt[0] + text_size[0], txt[1] - text_size[1]),(0, 0, 102), cv2.FILLED)\n",
    "\n",
    "        cv2.putText(image, str(Angle), txt, font, font_scale, text_color, font_thickness, cv2.LINE_AA)\n",
    "    return image\n"
   ]
  },
  {
   "cell_type": "markdown",
   "metadata": {},
   "source": [
    "## Main "
   ]
  },
  {
   "cell_type": "code",
   "execution_count": 9,
   "metadata": {},
   "outputs": [],
   "source": [
    "\n",
    "cap = cv2.VideoCapture(0)\n",
    "\n",
    "while cap.isOpened():\n",
    "\n",
    "    ret, frame = cap.read()\n",
    "\n",
    "    image = cv2.cvtColor(frame, cv2.COLOR_BGR2RGB)\n",
    "\n",
    "    # Process the image using the mediapipe pose model\n",
    "    results = Pose.process(image)\n",
    "\n",
    "    # Check if pose landmarks are present\n",
    "    if results.pose_landmarks:\n",
    "        L_Marks = results.pose_landmarks.landmark\n",
    "\n",
    "        Drawing.draw_landmarks(\n",
    "            image,\n",
    "            results.pose_landmarks,\n",
    "            MP_Pose.POSE_CONNECTIONS,\n",
    "            landmark_drawing_spec=Drawing_Spec,\n",
    "            connection_drawing_spec=Drawing_Spec\n",
    "        )\n",
    "        image = Draw_Angles(image, L_Marks)\n",
    "\n",
    "\n",
    "\n",
    "    image = cv2.cvtColor(image, cv2.COLOR_RGB2BGR)\n",
    "    \n",
    "    cv2.imshow('Phlex', image)\n",
    "\n",
    "    if cv2.waitKey(1) & 0xFF == ord('q'):\n",
    "        break\n",
    "\n",
    "cap.release()\n",
    "cv2.destroyAllWindows()\n"
   ]
  }
 ],
 "metadata": {
  "kernelspec": {
   "display_name": "catto",
   "language": "python",
   "name": "python3"
  },
  "language_info": {
   "codemirror_mode": {
    "name": "ipython",
    "version": 3
   },
   "file_extension": ".py",
   "mimetype": "text/x-python",
   "name": "python",
   "nbconvert_exporter": "python",
   "pygments_lexer": "ipython3",
   "version": "3.11.3"
  }
 },
 "nbformat": 4,
 "nbformat_minor": 2
}

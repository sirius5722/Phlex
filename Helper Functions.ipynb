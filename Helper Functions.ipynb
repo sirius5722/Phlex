{
 "cells": [
  {
   "cell_type": "markdown",
   "metadata": {},
   "source": [
    "### Create file with Num of poses for each exercise"
   ]
  },
  {
   "cell_type": "code",
   "execution_count": 4,
   "metadata": {},
   "outputs": [
    {
     "name": "stdout",
     "output_type": "stream",
     "text": [
      "Excel file 'Exercises//Pose Counts.xlsx' created successfully.\n"
     ]
    }
   ],
   "source": [
    "import os\n",
    "import pandas as pd\n",
    "\n",
    "folder_path = \"Exercises\"\n",
    "\n",
    "# Dictionary to store exercise names and pose counts\n",
    "exercise_dict = {}\n",
    "\n",
    "for filename in os.listdir(folder_path):\n",
    "        \n",
    "        parts = filename.split()\n",
    "        exercise_name = \" \".join(parts[:-1])\n",
    "        pose_number = parts[-1]\n",
    "        exercise_key = f\"{exercise_name}\"\n",
    "\n",
    "        if exercise_key in exercise_dict:\n",
    "            exercise_dict[exercise_key] += 1\n",
    "        else:\n",
    "            exercise_dict[exercise_key] = 1\n",
    "\n",
    "df = pd.DataFrame(list(exercise_dict.items()), columns=[\"Exercise Name\", \"Poses Count\"])\n",
    "\n",
    "excel_filename = \"Exercises//Pose Counts.xlsx\"\n",
    "df.to_excel(excel_filename, index=False)\n",
    "\n",
    "print(f\"Excel file '{excel_filename}' created successfully.\")\n"
   ]
  },
  {
   "cell_type": "markdown",
   "metadata": {},
   "source": [
    "### Calculate Main Angles"
   ]
  },
  {
   "cell_type": "code",
   "execution_count": null,
   "metadata": {},
   "outputs": [],
   "source": [
    "def Calculate_Main_Angles( image_path ) :\n",
    "    \n",
    "    image = cv2.imread(image_path)\n",
    "    height, width, _ = image.shape\n",
    "    image = cv2.cvtColor(image, cv2.COLOR_BGR2RGB)\n",
    "    results = Pose.process(image)\n",
    "    \n",
    "    if results.pose_landmarks:\n",
    "        L_Marks = results.pose_landmarks.landmark\n",
    "\n",
    "\n",
    "    Angles = []\n",
    "    for Key, Val in Main_Angles.items():\n",
    "\n",
    "        Angle = int(Calculate_Angle([L_Marks[Val[0]].x, L_Marks[Val[0]].y],\n",
    "                                    [L_Marks[Val[1]].x, L_Marks[Val[1]].y],\n",
    "                                    [L_Marks[Val[2]].x, L_Marks[Val[2]].y]))\n",
    "        Angles.append(Angle)\n",
    "\n",
    "    return Angles\n"
   ]
  },
  {
   "cell_type": "markdown",
   "metadata": {},
   "source": [
    "### Create file with exercises' extracted Angles"
   ]
  },
  {
   "cell_type": "code",
   "execution_count": null,
   "metadata": {},
   "outputs": [],
   "source": [
    "def Extract_Exercises_Features(folder_path):\n",
    "    \n",
    "    df = pd.read_excel(\"Data//Pose Counts.xlsx\")\n",
    "\n",
    "    # A list to store Exercise names and angles for each pose\n",
    "    exercise_angles_list = []\n",
    "\n",
    "    for index, row in df.iterrows():\n",
    "\n",
    "        exercise_name = row['Exercise Name']\n",
    "        pose_count = row['Poses Count']\n",
    "        # Calculate main angles for each pose\n",
    "        pose_angles = [Calculate_Main_Angles(os.path.join(folder_path, f\"{exercise_name} {pose}.png\")) for pose in range(1, pose_count + 1)]\n",
    "        exercise_angles_list.append([exercise_name, pose_angles])\n",
    "\n",
    "    df_result = pd.DataFrame(exercise_angles_list, columns=[\"Exercise Name\", \"Pose Angles\"])\n",
    "\n",
    "    df_result.to_excel(\"Data//Exercises Features.xlsx\", index=False)\n",
    "\n",
    "    print(\"Excel file created successfully.\")\n",
    "\n",
    "Extract_Exercises_Features(\"Exercises\")"
   ]
  }
 ],
 "metadata": {
  "kernelspec": {
   "display_name": "catto",
   "language": "python",
   "name": "python3"
  },
  "language_info": {
   "codemirror_mode": {
    "name": "ipython",
    "version": 3
   },
   "file_extension": ".py",
   "mimetype": "text/x-python",
   "name": "python",
   "nbconvert_exporter": "python",
   "pygments_lexer": "ipython3",
   "version": "3.11.3"
  }
 },
 "nbformat": 4,
 "nbformat_minor": 2
}

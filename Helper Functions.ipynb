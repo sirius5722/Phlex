{
 "cells": [
  {
   "cell_type": "code",
   "execution_count": 4,
   "metadata": {},
   "outputs": [],
   "source": [
    "import cv2\n",
    "import numpy as np\n",
    "import mediapipe as mp\n",
    "import os\n",
    "import pandas as pd"
   ]
  },
  {
   "cell_type": "code",
   "execution_count": 5,
   "metadata": {},
   "outputs": [],
   "source": [
    "MP_Pose = mp.solutions.pose\n",
    "Pose = MP_Pose.Pose(min_detection_confidence=0.6, min_tracking_confidence=0.6 )"
   ]
  },
  {
   "cell_type": "code",
   "execution_count": 6,
   "metadata": {},
   "outputs": [],
   "source": [
    "Main_Angles = {\n",
    "    \n",
    "    \"Neck\"       : [0,11,12]  , \n",
    "    \"L_Shoulder\" : [13,11,23] , \n",
    "    \"R_Shoulder\" : [14,12,24] , \n",
    "    \"L_Elbow\"    : [11,13,15] , \n",
    "    \"R_Elbow\"    : [12,14,16] ,\n",
    "    \"L_Wrist\"    : [13,15,19] , \n",
    "    \"R_Wrist\"    : [14,16,20] ,\n",
    "    \"L_Hip\"      : [11,23,25] , \n",
    "    \"R_Hip\"      : [12,24,26] ,\n",
    "    \"L_Knee\"     : [23,25,27] ,\n",
    "    \"R_Knee\"     : [24,26,28] ,\n",
    "    \"L_Ankle\"    : [25,27,31] ,\n",
    "    \"R_Ankle\"    : [26,28,32] , \n",
    "}"
   ]
  },
  {
   "cell_type": "code",
   "execution_count": 7,
   "metadata": {},
   "outputs": [],
   "source": [
    "def Calculate_Angle(Point_1, Point_2, Point_3):\n",
    "    Point_1 = np.array(Point_1) \n",
    "    Point_2 = np.array(Point_2)\n",
    "    Point_3 = np.array(Point_3) \n",
    "    \n",
    "    radians = np.arctan2(Point_3[1]-Point_2[1], Point_3[0]-Point_2[0]) - np.arctan2(Point_1[1]-Point_2[1], Point_1[0]-Point_2[0])\n",
    "    angle = np.abs(radians*180.0/np.pi)\n",
    "    \n",
    "    if angle >180.0:\n",
    "        angle = 360-angle\n",
    "        \n",
    "    return angle "
   ]
  },
  {
   "cell_type": "markdown",
   "metadata": {},
   "source": [
    "### Create file with Num of poses for each exercise"
   ]
  },
  {
   "cell_type": "code",
   "execution_count": 8,
   "metadata": {},
   "outputs": [
    {
     "name": "stdout",
     "output_type": "stream",
     "text": [
      "Excel file 'Data//Pose Counts.xlsx' created successfully.\n"
     ]
    }
   ],
   "source": [
    "folder_path = \"Data//Exercises\"\n",
    "\n",
    "# Dictionary to store exercise names and pose counts\n",
    "exercise_dict = {}\n",
    "\n",
    "for filename in os.listdir(folder_path):\n",
    "        \n",
    "        parts = filename.split()\n",
    "        exercise_name = \" \".join(parts[:-1])\n",
    "        pose_number = parts[-1]\n",
    "        exercise_key = f\"{exercise_name}\"\n",
    "\n",
    "        if exercise_key in exercise_dict:\n",
    "            exercise_dict[exercise_key] += 1\n",
    "        else:\n",
    "            exercise_dict[exercise_key] = 1\n",
    "\n",
    "df = pd.DataFrame(list(exercise_dict.items()), columns=[\"Exercise Name\", \"Poses Count\"])\n",
    "\n",
    "excel_filename = \"Data//Pose Counts.xlsx\"\n",
    "df.to_excel(excel_filename, index=False)\n",
    "\n",
    "print(f\"Excel file '{excel_filename}' created successfully.\")\n"
   ]
  },
  {
   "cell_type": "markdown",
   "metadata": {},
   "source": [
    "### Calculate Main Angles from Excercises images"
   ]
  },
  {
   "cell_type": "code",
   "execution_count": 9,
   "metadata": {},
   "outputs": [],
   "source": [
    "def Calculate_Main_Angles(image_path):\n",
    "    image = cv2.imread(image_path)\n",
    "    height, width, _ = image.shape\n",
    "    image = cv2.cvtColor(image, cv2.COLOR_BGR2RGB)\n",
    "    results = Pose.process(image)\n",
    "\n",
    "    Angles = []\n",
    "\n",
    "    if results.pose_landmarks:\n",
    "        L_Marks = results.pose_landmarks.landmark\n",
    "\n",
    "        for Key, Val in Main_Angles.items():\n",
    "            Angle = int(Calculate_Angle([L_Marks[Val[0]].x, L_Marks[Val[0]].y],\n",
    "                                        [L_Marks[Val[1]].x, L_Marks[Val[1]].y],\n",
    "                                        [L_Marks[Val[2]].x, L_Marks[Val[2]].y]))\n",
    "            Angles.append(Angle)\n",
    "\n",
    "    return Angles\n"
   ]
  },
  {
   "cell_type": "markdown",
   "metadata": {},
   "source": [
    "### Create file with exercises' extracted angles"
   ]
  },
  {
   "cell_type": "code",
   "execution_count": 10,
   "metadata": {},
   "outputs": [
    {
     "name": "stdout",
     "output_type": "stream",
     "text": [
      "Excel file created successfully.\n"
     ]
    }
   ],
   "source": [
    "def Extract_Exercises_Features(folder_path):\n",
    "\n",
    "    df = pd.read_excel(\"Data//Pose Counts.xlsx\")\n",
    "\n",
    "    exercise_angles_list = []\n",
    "\n",
    "    for index, row in df.iterrows():\n",
    "        exercise_name = row['Exercise Name']\n",
    "        pose_count = row['Poses Count']\n",
    "\n",
    "        # Calculate main angles for each pose\n",
    "        pose_angles = []\n",
    "\n",
    "        for pose in range(1, pose_count + 1):\n",
    "            image_path = os.path.join(folder_path, f\"{exercise_name} {pose}.png\")\n",
    "            landmarks = Calculate_Main_Angles(image_path)\n",
    "\n",
    "            # Check if landmarks are detected\n",
    "            if landmarks:\n",
    "                pose_angles.append(landmarks)\n",
    "            else:\n",
    "                print(f\"No landmarks detected for {exercise_name} pose {pose}. Skipping.\")\n",
    "                \n",
    "\n",
    "        # Append exercise information to the list\n",
    "        exercise_angles_list.append([exercise_name, pose_angles])\n",
    "\n",
    "    # Create a DataFrame from the list\n",
    "    df_result = pd.DataFrame(exercise_angles_list, columns=[\"Exercise Name\", \"Pose Angles\"])\n",
    "\n",
    "    # Save the DataFrame to an Excel file\n",
    "    df_result.to_excel(\"Data//Exercises Features.xlsx\", index=False)\n",
    "\n",
    "    print(\"Excel file created successfully.\")\n",
    "\n",
    "Extract_Exercises_Features(\"Data//Exercises\")\n"
   ]
  },
  {
   "cell_type": "markdown",
   "metadata": {},
   "source": [
    "# Testing Functions"
   ]
  },
  {
   "cell_type": "markdown",
   "metadata": {},
   "source": [
    "### Draw Angles on Exercises images "
   ]
  },
  {
   "cell_type": "code",
   "execution_count": 11,
   "metadata": {},
   "outputs": [
    {
     "name": "stdout",
     "output_type": "stream",
     "text": [
      "Pose landmarks detected.\n"
     ]
    },
    {
     "ename": "",
     "evalue": "",
     "output_type": "error",
     "traceback": [
      "\u001b[1;31mThe Kernel crashed while executing code in the the current cell or a previous cell. Please review the code in the cell(s) to identify a possible cause of the failure. Click <a href='https://aka.ms/vscodeJupyterKernelCrash'>here</a> for more info. View Jupyter <a href='command:jupyter.viewOutput'>log</a> for further details."
     ]
    }
   ],
   "source": [
    "def Draw_Angles( image , L_Marks ) :\n",
    "    \n",
    "    height, width, _ = image.shape\n",
    "    for Key, Val in Main_Angles.items():\n",
    "        \n",
    "        Angle = int(Calculate_Angle([L_Marks[Val[0]].x, L_Marks[Val[0]].y],\n",
    "                                    [L_Marks[Val[1]].x, L_Marks[Val[1]].y],\n",
    "                                    [L_Marks[Val[2]].x, L_Marks[Val[2]].y]))\n",
    "        txt = tuple(np.multiply([L_Marks[Val[1]].x, L_Marks[Val[1]].y],[width,height]).astype(int))\n",
    "\n",
    "        font = cv2.FONT_HERSHEY_SIMPLEX\n",
    "        font_scale = 0.7\n",
    "        font_thickness = 2\n",
    "        text_color = (209, 196, 233) \n",
    "\n",
    "        text_size, _ = cv2.getTextSize(str(Angle), cv2.FONT_HERSHEY_SIMPLEX, font_scale, font_thickness)\n",
    "        cv2.rectangle(image, txt, (txt[0] + text_size[0], txt[1] - text_size[1]),(0, 0, 102), cv2.FILLED)\n",
    "\n",
    "        cv2.putText(image, str(Angle), txt, font, font_scale, text_color, font_thickness, cv2.LINE_AA)\n",
    "    return image\n",
    "\n",
    "\n",
    "def Draw_Main_Angles(image_path):\n",
    "    image = cv2.imread(image_path)\n",
    "    height, width, _ = image.shape\n",
    "    image = cv2.cvtColor(image, cv2.COLOR_BGR2RGB)\n",
    "    results = Pose.process(image)\n",
    "\n",
    "    if results.pose_landmarks:\n",
    "        print(\"Pose landmarks detected.\")\n",
    "        L_Marks = results.pose_landmarks.landmark\n",
    "        image = Draw_Angles(image, L_Marks)\n",
    "    else:\n",
    "        print(\"No pose landmarks detected.\")\n",
    "    image = cv2.flip(image,1)\n",
    "    cv2.imshow('phlex', cv2.cvtColor(image, cv2.COLOR_RGB2BGR))\n",
    "\n",
    "    key = cv2.waitKey(0)\n",
    "    if key == 27:\n",
    "        cv2.destroyAllWindows()\n",
    "\n",
    "Draw_Main_Angles('Data//Exercises//G 3.png')"
   ]
  }
 ],
 "metadata": {
  "kernelspec": {
   "display_name": "catto",
   "language": "python",
   "name": "python3"
  },
  "language_info": {
   "codemirror_mode": {
    "name": "ipython",
    "version": 3
   },
   "file_extension": ".py",
   "mimetype": "text/x-python",
   "name": "python",
   "nbconvert_exporter": "python",
   "pygments_lexer": "ipython3",
   "version": "3.11.3"
  }
 },
 "nbformat": 4,
 "nbformat_minor": 2
}
